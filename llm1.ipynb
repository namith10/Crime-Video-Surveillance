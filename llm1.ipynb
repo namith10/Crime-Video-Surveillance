{
 "cells": [
  {
   "cell_type": "code",
   "execution_count": null,
   "metadata": {},
   "outputs": [],
   "source": [
    "pip install -q -U google-generativeai"
   ]
  },
  {
   "cell_type": "code",
   "execution_count": 1,
   "metadata": {},
   "outputs": [
    {
     "name": "stderr",
     "output_type": "stream",
     "text": [
      "c:\\Users\\Namith H Sarode\\AppData\\Local\\Programs\\Python\\Python312\\Lib\\site-packages\\tqdm\\auto.py:21: TqdmWarning: IProgress not found. Please update jupyter and ipywidgets. See https://ipywidgets.readthedocs.io/en/stable/user_install.html\n",
      "  from .autonotebook import tqdm as notebook_tqdm\n"
     ]
    }
   ],
   "source": [
    "import google.generativeai as genai\n",
    "import os"
   ]
  },
  {
   "cell_type": "code",
   "execution_count": 2,
   "metadata": {},
   "outputs": [
    {
     "name": "stdout",
     "output_type": "stream",
     "text": [
      "```json\n",
      "{\n",
      "  \"analysis\": \"The two texts exhibit significantly different writing styles and vocabulary, suggesting they were written by different authors. Text 1 focuses on a specific fictional narrative, employing descriptive language, focusing on characters and plot points. Text 2 delves into historical analysis, using scholarly language and focusing on themes of social structures and historical events. The vocabulary, sentence structure, and overall tone of the two texts are distinct, making it highly likely they were written by different authors.\",\n",
      "  \"answer\": false\n",
      "}\n",
      "```\n"
     ]
    }
   ],
   "source": [
    "model = genai.GenerativeModel(\"gemini-1.5-flash\")\n",
    "response = model.generate_content(\"\"\"Repond with a JSON object including two key elements:\n",
    "                                  \"analysis\":Reasoning behind your answer.\n",
    "                                  'answer':A boolean(True/False) answer\n",
    "User instruction:no_guidence:Verify if two input texts were written by the same author\n",
    "                little_guidence:Verify if two input texts were written by the same author+Analyze the writing styles of the input texts, disregarding the differences in topic and content\n",
    "\n",
    "                grammar:Verify if two input texts were written by the same author+Focus on grammatical styles indicative of authorship                 \n",
    "                       \n",
    "                LIP: Verify if two input texts were written by the same author+Analyze the writing styles of the input texts, disregarding the differences in tupic and content.Reasoning based on ligustic features such as phrasal verbs,modal verbs,modal verbs,punctuation,rare words,affixes,quantities,humor,sarcasm,typographical errors,and misspellings   \n",
    "                                   \n",
    "                text1=Jane Eyre is a story of true love that encounters many obstacles and problems, but surmounts these troubles to fulfil destiny. The main source of trouble is Rochester's insane first wife, Bertha Mason, a lunatic Creole who is locked in the attic of his country house, Thornfield Hall. The problem is eventually solved, tragically, when Bertha escapes and burns Thornfield to the ground, killing herself and seriously maiming Rochester in the process. The social and moral imbalances between Jane and Rochester are then equalled by his punishment for his previous actions, and Jane's rise in status due to an inheritance.\n",
    "\n",
    "                text2: Although India has a history of ancient civilisations such as the Harappa and Mohenjodaro, and of matrilineal societies in the south, no written records of women's literary prowess exists predating the 6th century BC. The emergence of the first body of poetry by women in India could be attributed to the advent of Buddhism. Perhaps it was the freedom offered by the religion, the way of life it offered to women, and the principle of equality that it propagated which allowed women to pen their thoughts for the first time.\n",
    "Buddhism offered women the opportunity to break away from the restrictions of home life, a major factor in the rise of Indian women's literature in the early 6th century BC. The earliest known anthology of women's literature in India has been identified as those belonging to the Therigatha nuns, the poets being contemporaries of the Buddha. One of these, Mutta, writes,\n",
    "\n",
    "\"\"\")\n",
    "print(response.text)"
   ]
  }
 ],
 "metadata": {
  "kernelspec": {
   "display_name": "Python 3",
   "language": "python",
   "name": "python3"
  },
  "language_info": {
   "codemirror_mode": {
    "name": "ipython",
    "version": 3
   },
   "file_extension": ".py",
   "mimetype": "text/x-python",
   "name": "python",
   "nbconvert_exporter": "python",
   "pygments_lexer": "ipython3",
   "version": "3.12.2"
  }
 },
 "nbformat": 4,
 "nbformat_minor": 2
}
